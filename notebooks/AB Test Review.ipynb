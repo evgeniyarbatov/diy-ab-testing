{
 "cells": [
  {
   "cell_type": "markdown",
   "id": "e0aca8ac",
   "metadata": {},
   "source": [
    "# A/B Test Review"
   ]
  },
  {
   "cell_type": "code",
   "execution_count": 213,
   "id": "82023e21",
   "metadata": {},
   "outputs": [],
   "source": [
    "import pandas as pd"
   ]
  },
  {
   "cell_type": "markdown",
   "id": "7ae47582",
   "metadata": {},
   "source": [
    "## Load log file"
   ]
  },
  {
   "cell_type": "code",
   "execution_count": 214,
   "id": "e772bc0e",
   "metadata": {},
   "outputs": [],
   "source": [
    "df = pd.read_json('../website/logs/app.log', lines=True)"
   ]
  },
  {
   "cell_type": "code",
   "execution_count": 215,
   "id": "1ec7bddb",
   "metadata": {},
   "outputs": [],
   "source": [
    "df['timestamp'] = pd.to_datetime(df['timestamp'])"
   ]
  },
  {
   "cell_type": "code",
   "execution_count": 216,
   "id": "db73f5e1",
   "metadata": {},
   "outputs": [
    {
     "data": {
      "text/html": [
       "<div>\n",
       "<style scoped>\n",
       "    .dataframe tbody tr th:only-of-type {\n",
       "        vertical-align: middle;\n",
       "    }\n",
       "\n",
       "    .dataframe tbody tr th {\n",
       "        vertical-align: top;\n",
       "    }\n",
       "\n",
       "    .dataframe thead th {\n",
       "        text-align: right;\n",
       "    }\n",
       "</style>\n",
       "<table border=\"1\" class=\"dataframe\">\n",
       "  <thead>\n",
       "    <tr style=\"text-align: right;\">\n",
       "      <th></th>\n",
       "      <th>level</th>\n",
       "      <th>message</th>\n",
       "      <th>timestamp</th>\n",
       "    </tr>\n",
       "  </thead>\n",
       "  <tbody>\n",
       "    <tr>\n",
       "      <th>0</th>\n",
       "      <td>info</td>\n",
       "      <td>{'event': 'impression', 'experiments': [{'grou...</td>\n",
       "      <td>2024-04-08 06:36:20.314000+00:00</td>\n",
       "    </tr>\n",
       "    <tr>\n",
       "      <th>1</th>\n",
       "      <td>info</td>\n",
       "      <td>{'event': 'click', 'experiments': [], 'extra':...</td>\n",
       "      <td>2024-04-08 06:36:21.918000+00:00</td>\n",
       "    </tr>\n",
       "  </tbody>\n",
       "</table>\n",
       "</div>"
      ],
      "text/plain": [
       "  level                                            message  \\\n",
       "0  info  {'event': 'impression', 'experiments': [{'grou...   \n",
       "1  info  {'event': 'click', 'experiments': [], 'extra':...   \n",
       "\n",
       "                         timestamp  \n",
       "0 2024-04-08 06:36:20.314000+00:00  \n",
       "1 2024-04-08 06:36:21.918000+00:00  "
      ]
     },
     "execution_count": 216,
     "metadata": {},
     "output_type": "execute_result"
    }
   ],
   "source": [
    "df.head(2)"
   ]
  },
  {
   "cell_type": "code",
   "execution_count": 217,
   "id": "6b7a458b",
   "metadata": {},
   "outputs": [
    {
     "data": {
      "text/html": [
       "<div>\n",
       "<style scoped>\n",
       "    .dataframe tbody tr th:only-of-type {\n",
       "        vertical-align: middle;\n",
       "    }\n",
       "\n",
       "    .dataframe tbody tr th {\n",
       "        vertical-align: top;\n",
       "    }\n",
       "\n",
       "    .dataframe thead th {\n",
       "        text-align: right;\n",
       "    }\n",
       "</style>\n",
       "<table border=\"1\" class=\"dataframe\">\n",
       "  <thead>\n",
       "    <tr style=\"text-align: right;\">\n",
       "      <th></th>\n",
       "      <th>event</th>\n",
       "      <th>experiments</th>\n",
       "      <th>page</th>\n",
       "      <th>url</th>\n",
       "      <th>username</th>\n",
       "      <th>extra.action</th>\n",
       "      <th>extra.elementId</th>\n",
       "      <th>extra.page</th>\n",
       "      <th>extra.productId</th>\n",
       "      <th>extra.paymentId</th>\n",
       "    </tr>\n",
       "  </thead>\n",
       "  <tbody>\n",
       "    <tr>\n",
       "      <th>0</th>\n",
       "      <td>impression</td>\n",
       "      <td>[{'group': 'test', 'name': 'SkipConfirmationSc...</td>\n",
       "      <td></td>\n",
       "      <td>/</td>\n",
       "      <td>53e71b03-794d-4de9-8ae3-376980ee4ffb</td>\n",
       "      <td>NaN</td>\n",
       "      <td>NaN</td>\n",
       "      <td>NaN</td>\n",
       "      <td>NaN</td>\n",
       "      <td>NaN</td>\n",
       "    </tr>\n",
       "    <tr>\n",
       "      <th>1</th>\n",
       "      <td>click</td>\n",
       "      <td>[]</td>\n",
       "      <td>welcome</td>\n",
       "      <td>/log</td>\n",
       "      <td>27b63d40-3661-4cf4-b531-0fc5a169b4e4</td>\n",
       "      <td>click</td>\n",
       "      <td>startButton</td>\n",
       "      <td>welcome</td>\n",
       "      <td>NaN</td>\n",
       "      <td>NaN</td>\n",
       "    </tr>\n",
       "  </tbody>\n",
       "</table>\n",
       "</div>"
      ],
      "text/plain": [
       "        event                                        experiments     page  \\\n",
       "0  impression  [{'group': 'test', 'name': 'SkipConfirmationSc...            \n",
       "1       click                                                 []  welcome   \n",
       "\n",
       "    url                              username extra.action extra.elementId  \\\n",
       "0     /  53e71b03-794d-4de9-8ae3-376980ee4ffb          NaN             NaN   \n",
       "1  /log  27b63d40-3661-4cf4-b531-0fc5a169b4e4        click     startButton   \n",
       "\n",
       "  extra.page extra.productId extra.paymentId  \n",
       "0        NaN             NaN             NaN  \n",
       "1    welcome             NaN             NaN  "
      ]
     },
     "execution_count": 217,
     "metadata": {},
     "output_type": "execute_result"
    }
   ],
   "source": [
    "message_df = pd.json_normalize(df['message'])\n",
    "message_df.head(2)"
   ]
  },
  {
   "cell_type": "code",
   "execution_count": 218,
   "id": "91a49634",
   "metadata": {},
   "outputs": [
    {
     "data": {
      "text/html": [
       "<div>\n",
       "<style scoped>\n",
       "    .dataframe tbody tr th:only-of-type {\n",
       "        vertical-align: middle;\n",
       "    }\n",
       "\n",
       "    .dataframe tbody tr th {\n",
       "        vertical-align: top;\n",
       "    }\n",
       "\n",
       "    .dataframe thead th {\n",
       "        text-align: right;\n",
       "    }\n",
       "</style>\n",
       "<table border=\"1\" class=\"dataframe\">\n",
       "  <thead>\n",
       "    <tr style=\"text-align: right;\">\n",
       "      <th></th>\n",
       "      <th>group</th>\n",
       "      <th>name</th>\n",
       "    </tr>\n",
       "  </thead>\n",
       "  <tbody>\n",
       "    <tr>\n",
       "      <th>0</th>\n",
       "      <td>test</td>\n",
       "      <td>SkipConfirmationScreen</td>\n",
       "    </tr>\n",
       "    <tr>\n",
       "      <th>1</th>\n",
       "      <td>test</td>\n",
       "      <td>SkipConfirmationScreen</td>\n",
       "    </tr>\n",
       "  </tbody>\n",
       "</table>\n",
       "</div>"
      ],
      "text/plain": [
       "  group                    name\n",
       "0  test  SkipConfirmationScreen\n",
       "1  test  SkipConfirmationScreen"
      ]
     },
     "execution_count": 218,
     "metadata": {},
     "output_type": "execute_result"
    }
   ],
   "source": [
    "experiments_df = pd.json_normalize(df['message'], record_path='experiments')\n",
    "experiments_df.head(2)"
   ]
  },
  {
   "cell_type": "code",
   "execution_count": 219,
   "id": "43db8961",
   "metadata": {},
   "outputs": [],
   "source": [
    "df = pd.concat([df, message_df, experiments_df], axis=1).drop([\n",
    "    'message', \n",
    "    'experiments', \n",
    "    'url',\n",
    "    'level',\n",
    "    'extra.elementId',\n",
    "    'extra.productId',\n",
    "    'extra.paymentId',\n",
    "    'extra.action',\n",
    "    'extra.page',\n",
    "], axis=1)"
   ]
  },
  {
   "cell_type": "code",
   "execution_count": 220,
   "id": "93876bcc",
   "metadata": {},
   "outputs": [],
   "source": [
    "df = df.sort_values(['username', 'timestamp'])"
   ]
  },
  {
   "cell_type": "code",
   "execution_count": 212,
   "id": "7c6d8c1b",
   "metadata": {},
   "outputs": [
    {
     "data": {
      "text/html": [
       "<div>\n",
       "<style scoped>\n",
       "    .dataframe tbody tr th:only-of-type {\n",
       "        vertical-align: middle;\n",
       "    }\n",
       "\n",
       "    .dataframe tbody tr th {\n",
       "        vertical-align: top;\n",
       "    }\n",
       "\n",
       "    .dataframe thead th {\n",
       "        text-align: right;\n",
       "    }\n",
       "</style>\n",
       "<table border=\"1\" class=\"dataframe\">\n",
       "  <thead>\n",
       "    <tr style=\"text-align: right;\">\n",
       "      <th></th>\n",
       "      <th>level</th>\n",
       "      <th>message</th>\n",
       "      <th>timestamp</th>\n",
       "    </tr>\n",
       "  </thead>\n",
       "  <tbody>\n",
       "    <tr>\n",
       "      <th>0</th>\n",
       "      <td>info</td>\n",
       "      <td>{'event': 'impression', 'experiments': [{'grou...</td>\n",
       "      <td>2024-04-08 06:36:20.314000+00:00</td>\n",
       "    </tr>\n",
       "    <tr>\n",
       "      <th>1</th>\n",
       "      <td>info</td>\n",
       "      <td>{'event': 'click', 'experiments': [], 'extra':...</td>\n",
       "      <td>2024-04-08 06:36:21.918000+00:00</td>\n",
       "    </tr>\n",
       "  </tbody>\n",
       "</table>\n",
       "</div>"
      ],
      "text/plain": [
       "  level                                            message  \\\n",
       "0  info  {'event': 'impression', 'experiments': [{'grou...   \n",
       "1  info  {'event': 'click', 'experiments': [], 'extra':...   \n",
       "\n",
       "                         timestamp  \n",
       "0 2024-04-08 06:36:20.314000+00:00  \n",
       "1 2024-04-08 06:36:21.918000+00:00  "
      ]
     },
     "execution_count": 212,
     "metadata": {},
     "output_type": "execute_result"
    }
   ],
   "source": [
    "df.head(2)"
   ]
  },
  {
   "cell_type": "markdown",
   "id": "3515a465",
   "metadata": {},
   "source": [
    "## Are test and control groups balanced?"
   ]
  },
  {
   "cell_type": "code",
   "execution_count": 191,
   "id": "9b688383",
   "metadata": {},
   "outputs": [
    {
     "data": {
      "text/html": [
       "<div>\n",
       "<style scoped>\n",
       "    .dataframe tbody tr th:only-of-type {\n",
       "        vertical-align: middle;\n",
       "    }\n",
       "\n",
       "    .dataframe tbody tr th {\n",
       "        vertical-align: top;\n",
       "    }\n",
       "\n",
       "    .dataframe thead th {\n",
       "        text-align: right;\n",
       "    }\n",
       "</style>\n",
       "<table border=\"1\" class=\"dataframe\">\n",
       "  <thead>\n",
       "    <tr style=\"text-align: right;\">\n",
       "      <th></th>\n",
       "      <th>name</th>\n",
       "      <th>group</th>\n",
       "      <th>unique_count</th>\n",
       "    </tr>\n",
       "  </thead>\n",
       "  <tbody>\n",
       "    <tr>\n",
       "      <th>0</th>\n",
       "      <td>SkipConfirmationScreen</td>\n",
       "      <td>test</td>\n",
       "      <td>2</td>\n",
       "    </tr>\n",
       "  </tbody>\n",
       "</table>\n",
       "</div>"
      ],
      "text/plain": [
       "                     name group  unique_count\n",
       "0  SkipConfirmationScreen  test             2"
      ]
     },
     "execution_count": 191,
     "metadata": {},
     "output_type": "execute_result"
    }
   ],
   "source": [
    "df.groupby(['name', 'group'])['username'].nunique().reset_index(name='unique_count')"
   ]
  },
  {
   "cell_type": "markdown",
   "id": "517fec77",
   "metadata": {},
   "source": [
    "## Time spent"
   ]
  },
  {
   "cell_type": "code",
   "execution_count": 231,
   "id": "7d8290a4",
   "metadata": {},
   "outputs": [
    {
     "name": "stdout",
     "output_type": "stream",
     "text": [
      "Time spent: 0 days 00:00:00.271166666 (test) NaT (control)\n"
     ]
    }
   ],
   "source": [
    "df['time_diff'] = df.groupby(['username', 'group'])['timestamp'].diff().fillna(pd.Timedelta(seconds=0))\n",
    "print(\n",
    "    'Time spent:',\n",
    "    df[df['group'] == 'test']['time_diff'].mean(), '(test)',\n",
    "    df[df['group'] == 'control']['time_diff'].mean() , '(control)'\n",
    ")"
   ]
  },
  {
   "cell_type": "code",
   "execution_count": null,
   "id": "4b28ebc7",
   "metadata": {},
   "outputs": [],
   "source": []
  }
 ],
 "metadata": {
  "kernelspec": {
   "display_name": "Python 3 (ipykernel)",
   "language": "python",
   "name": "python3"
  },
  "language_info": {
   "codemirror_mode": {
    "name": "ipython",
    "version": 3
   },
   "file_extension": ".py",
   "mimetype": "text/x-python",
   "name": "python",
   "nbconvert_exporter": "python",
   "pygments_lexer": "ipython3",
   "version": "3.11.8"
  }
 },
 "nbformat": 4,
 "nbformat_minor": 5
}
