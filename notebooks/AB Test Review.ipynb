{
 "cells": [
  {
   "cell_type": "markdown",
   "id": "96302bba",
   "metadata": {},
   "source": [
    "# A/B Test Review"
   ]
  },
  {
   "cell_type": "code",
   "execution_count": 309,
   "id": "01aebb6f",
   "metadata": {},
   "outputs": [],
   "source": [
    "import pandas as pd"
   ]
  },
  {
   "cell_type": "markdown",
   "id": "919fd1fb",
   "metadata": {},
   "source": [
    "## Load log file"
   ]
  },
  {
   "cell_type": "code",
   "execution_count": 310,
   "id": "e772bc0e",
   "metadata": {},
   "outputs": [],
   "source": [
    "df = pd.read_json('../website/logs/app.log', lines=True)"
   ]
  },
  {
   "cell_type": "code",
   "execution_count": 311,
   "id": "f92a63b7",
   "metadata": {},
   "outputs": [],
   "source": [
    "df['timestamp'] = pd.to_datetime(df['timestamp'])"
   ]
  },
  {
   "cell_type": "code",
   "execution_count": 312,
   "id": "7851e7ea",
   "metadata": {},
   "outputs": [
    {
     "data": {
      "text/html": [
       "<div>\n",
       "<style scoped>\n",
       "    .dataframe tbody tr th:only-of-type {\n",
       "        vertical-align: middle;\n",
       "    }\n",
       "\n",
       "    .dataframe tbody tr th {\n",
       "        vertical-align: top;\n",
       "    }\n",
       "\n",
       "    .dataframe thead th {\n",
       "        text-align: right;\n",
       "    }\n",
       "</style>\n",
       "<table border=\"1\" class=\"dataframe\">\n",
       "  <thead>\n",
       "    <tr style=\"text-align: right;\">\n",
       "      <th></th>\n",
       "      <th>level</th>\n",
       "      <th>message</th>\n",
       "      <th>timestamp</th>\n",
       "    </tr>\n",
       "  </thead>\n",
       "  <tbody>\n",
       "    <tr>\n",
       "      <th>0</th>\n",
       "      <td>info</td>\n",
       "      <td>{'event': 'impression', 'experiments': [], 'ex...</td>\n",
       "      <td>2024-04-08 08:52:05.429000+00:00</td>\n",
       "    </tr>\n",
       "    <tr>\n",
       "      <th>1</th>\n",
       "      <td>info</td>\n",
       "      <td>{'event': 'impression', 'experiments': [], 'ex...</td>\n",
       "      <td>2024-04-08 08:52:07.387000+00:00</td>\n",
       "    </tr>\n",
       "  </tbody>\n",
       "</table>\n",
       "</div>"
      ],
      "text/plain": [
       "  level                                            message  \\\n",
       "0  info  {'event': 'impression', 'experiments': [], 'ex...   \n",
       "1  info  {'event': 'impression', 'experiments': [], 'ex...   \n",
       "\n",
       "                         timestamp  \n",
       "0 2024-04-08 08:52:05.429000+00:00  \n",
       "1 2024-04-08 08:52:07.387000+00:00  "
      ]
     },
     "execution_count": 312,
     "metadata": {},
     "output_type": "execute_result"
    }
   ],
   "source": [
    "df.head(2)"
   ]
  },
  {
   "cell_type": "code",
   "execution_count": 313,
   "id": "ca71f6c5",
   "metadata": {},
   "outputs": [
    {
     "data": {
      "text/html": [
       "<div>\n",
       "<style scoped>\n",
       "    .dataframe tbody tr th:only-of-type {\n",
       "        vertical-align: middle;\n",
       "    }\n",
       "\n",
       "    .dataframe tbody tr th {\n",
       "        vertical-align: top;\n",
       "    }\n",
       "\n",
       "    .dataframe thead th {\n",
       "        text-align: right;\n",
       "    }\n",
       "</style>\n",
       "<table border=\"1\" class=\"dataframe\">\n",
       "  <thead>\n",
       "    <tr style=\"text-align: right;\">\n",
       "      <th></th>\n",
       "      <th>event</th>\n",
       "      <th>experiments</th>\n",
       "      <th>page</th>\n",
       "      <th>url</th>\n",
       "      <th>username</th>\n",
       "      <th>extra.productId</th>\n",
       "      <th>extra.paymentId</th>\n",
       "    </tr>\n",
       "  </thead>\n",
       "  <tbody>\n",
       "    <tr>\n",
       "      <th>0</th>\n",
       "      <td>impression</td>\n",
       "      <td>[]</td>\n",
       "      <td></td>\n",
       "      <td>/</td>\n",
       "      <td>NaN</td>\n",
       "      <td>NaN</td>\n",
       "      <td>NaN</td>\n",
       "    </tr>\n",
       "    <tr>\n",
       "      <th>1</th>\n",
       "      <td>impression</td>\n",
       "      <td>[]</td>\n",
       "      <td>products</td>\n",
       "      <td>/products</td>\n",
       "      <td>def841c4-aa9d-4b50-8668-f0d6686f4488</td>\n",
       "      <td>NaN</td>\n",
       "      <td>NaN</td>\n",
       "    </tr>\n",
       "  </tbody>\n",
       "</table>\n",
       "</div>"
      ],
      "text/plain": [
       "        event experiments      page        url  \\\n",
       "0  impression          []                    /   \n",
       "1  impression          []  products  /products   \n",
       "\n",
       "                               username extra.productId extra.paymentId  \n",
       "0                                   NaN             NaN             NaN  \n",
       "1  def841c4-aa9d-4b50-8668-f0d6686f4488             NaN             NaN  "
      ]
     },
     "execution_count": 313,
     "metadata": {},
     "output_type": "execute_result"
    }
   ],
   "source": [
    "message_df = pd.json_normalize(df['message'])\n",
    "message_df.head(2)"
   ]
  },
  {
   "cell_type": "code",
   "execution_count": 314,
   "id": "52fd74cf",
   "metadata": {},
   "outputs": [
    {
     "data": {
      "text/html": [
       "<div>\n",
       "<style scoped>\n",
       "    .dataframe tbody tr th:only-of-type {\n",
       "        vertical-align: middle;\n",
       "    }\n",
       "\n",
       "    .dataframe tbody tr th {\n",
       "        vertical-align: top;\n",
       "    }\n",
       "\n",
       "    .dataframe thead th {\n",
       "        text-align: right;\n",
       "    }\n",
       "</style>\n",
       "<table border=\"1\" class=\"dataframe\">\n",
       "  <thead>\n",
       "    <tr style=\"text-align: right;\">\n",
       "      <th></th>\n",
       "      <th>group</th>\n",
       "      <th>name</th>\n",
       "    </tr>\n",
       "  </thead>\n",
       "  <tbody>\n",
       "    <tr>\n",
       "      <th>0</th>\n",
       "      <td>test</td>\n",
       "      <td>SkipConfirmationScreen</td>\n",
       "    </tr>\n",
       "    <tr>\n",
       "      <th>1</th>\n",
       "      <td>control</td>\n",
       "      <td>DefaultSelectedProduct</td>\n",
       "    </tr>\n",
       "  </tbody>\n",
       "</table>\n",
       "</div>"
      ],
      "text/plain": [
       "     group                    name\n",
       "0     test  SkipConfirmationScreen\n",
       "1  control  DefaultSelectedProduct"
      ]
     },
     "execution_count": 314,
     "metadata": {},
     "output_type": "execute_result"
    }
   ],
   "source": [
    "experiments_df = pd.json_normalize(df['message'], record_path='experiments')\n",
    "experiments_df.head(2)"
   ]
  },
  {
   "cell_type": "code",
   "execution_count": 315,
   "id": "95468407",
   "metadata": {},
   "outputs": [],
   "source": [
    "df = pd.concat([df, message_df, experiments_df], axis=1).drop([\n",
    "    'message', \n",
    "    'experiments', \n",
    "    'url',\n",
    "    'level',\n",
    "], axis=1)"
   ]
  },
  {
   "cell_type": "code",
   "execution_count": 316,
   "id": "99f4ebff",
   "metadata": {},
   "outputs": [],
   "source": [
    "df = df.sort_values(['username', 'timestamp'])"
   ]
  },
  {
   "cell_type": "code",
   "execution_count": 317,
   "id": "f11144a2",
   "metadata": {
    "scrolled": true
   },
   "outputs": [
    {
     "data": {
      "text/html": [
       "<div>\n",
       "<style scoped>\n",
       "    .dataframe tbody tr th:only-of-type {\n",
       "        vertical-align: middle;\n",
       "    }\n",
       "\n",
       "    .dataframe tbody tr th {\n",
       "        vertical-align: top;\n",
       "    }\n",
       "\n",
       "    .dataframe thead th {\n",
       "        text-align: right;\n",
       "    }\n",
       "</style>\n",
       "<table border=\"1\" class=\"dataframe\">\n",
       "  <thead>\n",
       "    <tr style=\"text-align: right;\">\n",
       "      <th></th>\n",
       "      <th>timestamp</th>\n",
       "      <th>event</th>\n",
       "      <th>page</th>\n",
       "      <th>username</th>\n",
       "      <th>extra.productId</th>\n",
       "      <th>extra.paymentId</th>\n",
       "      <th>group</th>\n",
       "      <th>name</th>\n",
       "    </tr>\n",
       "  </thead>\n",
       "  <tbody>\n",
       "    <tr>\n",
       "      <th>36</th>\n",
       "      <td>2024-04-08 09:49:51.701000+00:00</td>\n",
       "      <td>impression</td>\n",
       "      <td>products</td>\n",
       "      <td>0f652ae2-707f-46a8-952b-ee20ea42c80c</td>\n",
       "      <td>NaN</td>\n",
       "      <td>NaN</td>\n",
       "      <td>control</td>\n",
       "      <td>DefaultSelectedProduct</td>\n",
       "    </tr>\n",
       "    <tr>\n",
       "      <th>37</th>\n",
       "      <td>2024-04-08 09:49:54.452000+00:00</td>\n",
       "      <td>impression</td>\n",
       "      <td>payment</td>\n",
       "      <td>0f652ae2-707f-46a8-952b-ee20ea42c80c</td>\n",
       "      <td>6</td>\n",
       "      <td>NaN</td>\n",
       "      <td>test</td>\n",
       "      <td>CancelToPreviousScreen</td>\n",
       "    </tr>\n",
       "    <tr>\n",
       "      <th>38</th>\n",
       "      <td>2024-04-08 09:49:54.458000+00:00</td>\n",
       "      <td>impression</td>\n",
       "      <td>payment</td>\n",
       "      <td>0f652ae2-707f-46a8-952b-ee20ea42c80c</td>\n",
       "      <td>NaN</td>\n",
       "      <td>NaN</td>\n",
       "      <td>test</td>\n",
       "      <td>SkipConfirmationScreen</td>\n",
       "    </tr>\n",
       "  </tbody>\n",
       "</table>\n",
       "</div>"
      ],
      "text/plain": [
       "                          timestamp       event      page  \\\n",
       "36 2024-04-08 09:49:51.701000+00:00  impression  products   \n",
       "37 2024-04-08 09:49:54.452000+00:00  impression   payment   \n",
       "38 2024-04-08 09:49:54.458000+00:00  impression   payment   \n",
       "\n",
       "                                username extra.productId extra.paymentId  \\\n",
       "36  0f652ae2-707f-46a8-952b-ee20ea42c80c             NaN             NaN   \n",
       "37  0f652ae2-707f-46a8-952b-ee20ea42c80c               6             NaN   \n",
       "38  0f652ae2-707f-46a8-952b-ee20ea42c80c             NaN             NaN   \n",
       "\n",
       "      group                    name  \n",
       "36  control  DefaultSelectedProduct  \n",
       "37     test  CancelToPreviousScreen  \n",
       "38     test  SkipConfirmationScreen  "
      ]
     },
     "execution_count": 317,
     "metadata": {},
     "output_type": "execute_result"
    }
   ],
   "source": [
    "df.head(3)"
   ]
  },
  {
   "cell_type": "markdown",
   "id": "0c1e5cd7",
   "metadata": {},
   "source": [
    "## Are test and control groups balanced?"
   ]
  },
  {
   "cell_type": "code",
   "execution_count": 318,
   "id": "e8c0c640",
   "metadata": {},
   "outputs": [
    {
     "data": {
      "text/html": [
       "<div>\n",
       "<style scoped>\n",
       "    .dataframe tbody tr th:only-of-type {\n",
       "        vertical-align: middle;\n",
       "    }\n",
       "\n",
       "    .dataframe tbody tr th {\n",
       "        vertical-align: top;\n",
       "    }\n",
       "\n",
       "    .dataframe thead th {\n",
       "        text-align: right;\n",
       "    }\n",
       "</style>\n",
       "<table border=\"1\" class=\"dataframe\">\n",
       "  <thead>\n",
       "    <tr style=\"text-align: right;\">\n",
       "      <th></th>\n",
       "      <th>name</th>\n",
       "      <th>group</th>\n",
       "      <th>unique_count</th>\n",
       "    </tr>\n",
       "  </thead>\n",
       "  <tbody>\n",
       "    <tr>\n",
       "      <th>0</th>\n",
       "      <td>CancelToPreviousScreen</td>\n",
       "      <td>control</td>\n",
       "      <td>6</td>\n",
       "    </tr>\n",
       "    <tr>\n",
       "      <th>1</th>\n",
       "      <td>CancelToPreviousScreen</td>\n",
       "      <td>test</td>\n",
       "      <td>4</td>\n",
       "    </tr>\n",
       "    <tr>\n",
       "      <th>2</th>\n",
       "      <td>DefaultSelectedProduct</td>\n",
       "      <td>control</td>\n",
       "      <td>9</td>\n",
       "    </tr>\n",
       "    <tr>\n",
       "      <th>3</th>\n",
       "      <td>DefaultSelectedProduct</td>\n",
       "      <td>test</td>\n",
       "      <td>5</td>\n",
       "    </tr>\n",
       "    <tr>\n",
       "      <th>4</th>\n",
       "      <td>SkipConfirmationScreen</td>\n",
       "      <td>control</td>\n",
       "      <td>6</td>\n",
       "    </tr>\n",
       "    <tr>\n",
       "      <th>5</th>\n",
       "      <td>SkipConfirmationScreen</td>\n",
       "      <td>test</td>\n",
       "      <td>10</td>\n",
       "    </tr>\n",
       "  </tbody>\n",
       "</table>\n",
       "</div>"
      ],
      "text/plain": [
       "                     name    group  unique_count\n",
       "0  CancelToPreviousScreen  control             6\n",
       "1  CancelToPreviousScreen     test             4\n",
       "2  DefaultSelectedProduct  control             9\n",
       "3  DefaultSelectedProduct     test             5\n",
       "4  SkipConfirmationScreen  control             6\n",
       "5  SkipConfirmationScreen     test            10"
      ]
     },
     "execution_count": 318,
     "metadata": {},
     "output_type": "execute_result"
    }
   ],
   "source": [
    "df.groupby(['name', 'group'])['username'].nunique().reset_index(name='unique_count')"
   ]
  },
  {
   "cell_type": "markdown",
   "id": "599aa867",
   "metadata": {},
   "source": [
    "## Time spent"
   ]
  },
  {
   "cell_type": "code",
   "execution_count": 319,
   "id": "d484cc95",
   "metadata": {},
   "outputs": [
    {
     "data": {
      "text/plain": [
       "name                    group  \n",
       "CancelToPreviousScreen  control    2.651667\n",
       "                        test       4.091000\n",
       "DefaultSelectedProduct  control    2.787889\n",
       "                        test       2.891333\n",
       "SkipConfirmationScreen  control    3.642000\n",
       "                        test       2.462500\n",
       "Name: time_diff, dtype: float64"
      ]
     },
     "execution_count": 319,
     "metadata": {},
     "output_type": "execute_result"
    }
   ],
   "source": [
    "df['time_diff'] = df.groupby(['username', 'name', 'group'])['timestamp'].diff().dt.total_seconds()\n",
    "df.groupby(['name', 'group'])['time_diff'].mean()"
   ]
  },
  {
   "cell_type": "code",
   "execution_count": null,
   "id": "f1826788",
   "metadata": {},
   "outputs": [],
   "source": []
  }
 ],
 "metadata": {
  "kernelspec": {
   "display_name": "Python 3 (ipykernel)",
   "language": "python",
   "name": "python3"
  },
  "language_info": {
   "codemirror_mode": {
    "name": "ipython",
    "version": 3
   },
   "file_extension": ".py",
   "mimetype": "text/x-python",
   "name": "python",
   "nbconvert_exporter": "python",
   "pygments_lexer": "ipython3",
   "version": "3.11.8"
  }
 },
 "nbformat": 4,
 "nbformat_minor": 5
}
