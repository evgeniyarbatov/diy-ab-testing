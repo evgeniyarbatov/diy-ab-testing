{
 "cells": [
  {
   "cell_type": "markdown",
   "id": "2dc7ea27",
   "metadata": {},
   "source": [
    "# A/B Test Review"
   ]
  },
  {
   "cell_type": "code",
   "execution_count": 184,
   "id": "a1ea3553",
   "metadata": {},
   "outputs": [],
   "source": [
    "import pandas as pd"
   ]
  },
  {
   "cell_type": "markdown",
   "id": "26ad0604",
   "metadata": {},
   "source": [
    "## Load log file"
   ]
  },
  {
   "cell_type": "code",
   "execution_count": 185,
   "id": "e772bc0e",
   "metadata": {},
   "outputs": [],
   "source": [
    "df = pd.read_json('../website/logs/app.log', lines=True)"
   ]
  },
  {
   "cell_type": "code",
   "execution_count": 186,
   "id": "81439157",
   "metadata": {},
   "outputs": [
    {
     "data": {
      "text/html": [
       "<div>\n",
       "<style scoped>\n",
       "    .dataframe tbody tr th:only-of-type {\n",
       "        vertical-align: middle;\n",
       "    }\n",
       "\n",
       "    .dataframe tbody tr th {\n",
       "        vertical-align: top;\n",
       "    }\n",
       "\n",
       "    .dataframe thead th {\n",
       "        text-align: right;\n",
       "    }\n",
       "</style>\n",
       "<table border=\"1\" class=\"dataframe\">\n",
       "  <thead>\n",
       "    <tr style=\"text-align: right;\">\n",
       "      <th></th>\n",
       "      <th>level</th>\n",
       "      <th>message</th>\n",
       "      <th>timestamp</th>\n",
       "    </tr>\n",
       "  </thead>\n",
       "  <tbody>\n",
       "    <tr>\n",
       "      <th>0</th>\n",
       "      <td>info</td>\n",
       "      <td>{'event': 'impression', 'experiments': [{'grou...</td>\n",
       "      <td>2024-04-08 06:36:20.314000+00:00</td>\n",
       "    </tr>\n",
       "    <tr>\n",
       "      <th>1</th>\n",
       "      <td>info</td>\n",
       "      <td>{'event': 'click', 'experiments': [], 'extra':...</td>\n",
       "      <td>2024-04-08 06:36:21.918000+00:00</td>\n",
       "    </tr>\n",
       "  </tbody>\n",
       "</table>\n",
       "</div>"
      ],
      "text/plain": [
       "  level                                            message  \\\n",
       "0  info  {'event': 'impression', 'experiments': [{'grou...   \n",
       "1  info  {'event': 'click', 'experiments': [], 'extra':...   \n",
       "\n",
       "                         timestamp  \n",
       "0 2024-04-08 06:36:20.314000+00:00  \n",
       "1 2024-04-08 06:36:21.918000+00:00  "
      ]
     },
     "execution_count": 186,
     "metadata": {},
     "output_type": "execute_result"
    }
   ],
   "source": [
    "df.head(2)"
   ]
  },
  {
   "cell_type": "code",
   "execution_count": 187,
   "id": "0952bce9",
   "metadata": {},
   "outputs": [
    {
     "data": {
      "text/html": [
       "<div>\n",
       "<style scoped>\n",
       "    .dataframe tbody tr th:only-of-type {\n",
       "        vertical-align: middle;\n",
       "    }\n",
       "\n",
       "    .dataframe tbody tr th {\n",
       "        vertical-align: top;\n",
       "    }\n",
       "\n",
       "    .dataframe thead th {\n",
       "        text-align: right;\n",
       "    }\n",
       "</style>\n",
       "<table border=\"1\" class=\"dataframe\">\n",
       "  <thead>\n",
       "    <tr style=\"text-align: right;\">\n",
       "      <th></th>\n",
       "      <th>event</th>\n",
       "      <th>experiments</th>\n",
       "      <th>page</th>\n",
       "      <th>url</th>\n",
       "      <th>username</th>\n",
       "      <th>extra.action</th>\n",
       "      <th>extra.elementId</th>\n",
       "      <th>extra.page</th>\n",
       "      <th>extra.productId</th>\n",
       "      <th>extra.paymentId</th>\n",
       "    </tr>\n",
       "  </thead>\n",
       "  <tbody>\n",
       "    <tr>\n",
       "      <th>0</th>\n",
       "      <td>impression</td>\n",
       "      <td>[{'group': 'test', 'name': 'SkipConfirmationSc...</td>\n",
       "      <td></td>\n",
       "      <td>/</td>\n",
       "      <td>53e71b03-794d-4de9-8ae3-376980ee4ffb</td>\n",
       "      <td>NaN</td>\n",
       "      <td>NaN</td>\n",
       "      <td>NaN</td>\n",
       "      <td>NaN</td>\n",
       "      <td>NaN</td>\n",
       "    </tr>\n",
       "    <tr>\n",
       "      <th>1</th>\n",
       "      <td>click</td>\n",
       "      <td>[]</td>\n",
       "      <td>welcome</td>\n",
       "      <td>/log</td>\n",
       "      <td>27b63d40-3661-4cf4-b531-0fc5a169b4e4</td>\n",
       "      <td>click</td>\n",
       "      <td>startButton</td>\n",
       "      <td>welcome</td>\n",
       "      <td>NaN</td>\n",
       "      <td>NaN</td>\n",
       "    </tr>\n",
       "  </tbody>\n",
       "</table>\n",
       "</div>"
      ],
      "text/plain": [
       "        event                                        experiments     page  \\\n",
       "0  impression  [{'group': 'test', 'name': 'SkipConfirmationSc...            \n",
       "1       click                                                 []  welcome   \n",
       "\n",
       "    url                              username extra.action extra.elementId  \\\n",
       "0     /  53e71b03-794d-4de9-8ae3-376980ee4ffb          NaN             NaN   \n",
       "1  /log  27b63d40-3661-4cf4-b531-0fc5a169b4e4        click     startButton   \n",
       "\n",
       "  extra.page extra.productId extra.paymentId  \n",
       "0        NaN             NaN             NaN  \n",
       "1    welcome             NaN             NaN  "
      ]
     },
     "execution_count": 187,
     "metadata": {},
     "output_type": "execute_result"
    }
   ],
   "source": [
    "message_df = pd.json_normalize(df['message'])\n",
    "message_df.head(2)"
   ]
  },
  {
   "cell_type": "code",
   "execution_count": 188,
   "id": "23dc1e9d",
   "metadata": {},
   "outputs": [
    {
     "data": {
      "text/html": [
       "<div>\n",
       "<style scoped>\n",
       "    .dataframe tbody tr th:only-of-type {\n",
       "        vertical-align: middle;\n",
       "    }\n",
       "\n",
       "    .dataframe tbody tr th {\n",
       "        vertical-align: top;\n",
       "    }\n",
       "\n",
       "    .dataframe thead th {\n",
       "        text-align: right;\n",
       "    }\n",
       "</style>\n",
       "<table border=\"1\" class=\"dataframe\">\n",
       "  <thead>\n",
       "    <tr style=\"text-align: right;\">\n",
       "      <th></th>\n",
       "      <th>group</th>\n",
       "      <th>name</th>\n",
       "    </tr>\n",
       "  </thead>\n",
       "  <tbody>\n",
       "    <tr>\n",
       "      <th>0</th>\n",
       "      <td>test</td>\n",
       "      <td>SkipConfirmationScreen</td>\n",
       "    </tr>\n",
       "    <tr>\n",
       "      <th>1</th>\n",
       "      <td>test</td>\n",
       "      <td>SkipConfirmationScreen</td>\n",
       "    </tr>\n",
       "  </tbody>\n",
       "</table>\n",
       "</div>"
      ],
      "text/plain": [
       "  group                    name\n",
       "0  test  SkipConfirmationScreen\n",
       "1  test  SkipConfirmationScreen"
      ]
     },
     "execution_count": 188,
     "metadata": {},
     "output_type": "execute_result"
    }
   ],
   "source": [
    "experiments_df = pd.json_normalize(df['message'], record_path='experiments')\n",
    "experiments_df.head(2)"
   ]
  },
  {
   "cell_type": "code",
   "execution_count": 189,
   "id": "a2ca10ee",
   "metadata": {},
   "outputs": [],
   "source": [
    "df = pd.concat([df, message_df, experiments_df], axis=1).drop([\n",
    "    'message', \n",
    "    'experiments', \n",
    "    'url',\n",
    "    'level',\n",
    "    'extra.elementId',\n",
    "    'extra.productId',\n",
    "    'extra.paymentId',\n",
    "    'extra.action',\n",
    "    'extra.page',\n",
    "], axis=1)"
   ]
  },
  {
   "cell_type": "code",
   "execution_count": 190,
   "id": "2bc1605e",
   "metadata": {},
   "outputs": [
    {
     "data": {
      "text/html": [
       "<div>\n",
       "<style scoped>\n",
       "    .dataframe tbody tr th:only-of-type {\n",
       "        vertical-align: middle;\n",
       "    }\n",
       "\n",
       "    .dataframe tbody tr th {\n",
       "        vertical-align: top;\n",
       "    }\n",
       "\n",
       "    .dataframe thead th {\n",
       "        text-align: right;\n",
       "    }\n",
       "</style>\n",
       "<table border=\"1\" class=\"dataframe\">\n",
       "  <thead>\n",
       "    <tr style=\"text-align: right;\">\n",
       "      <th></th>\n",
       "      <th>timestamp</th>\n",
       "      <th>event</th>\n",
       "      <th>page</th>\n",
       "      <th>username</th>\n",
       "      <th>group</th>\n",
       "      <th>name</th>\n",
       "    </tr>\n",
       "  </thead>\n",
       "  <tbody>\n",
       "    <tr>\n",
       "      <th>0</th>\n",
       "      <td>2024-04-08 06:36:20.314000+00:00</td>\n",
       "      <td>impression</td>\n",
       "      <td></td>\n",
       "      <td>53e71b03-794d-4de9-8ae3-376980ee4ffb</td>\n",
       "      <td>test</td>\n",
       "      <td>SkipConfirmationScreen</td>\n",
       "    </tr>\n",
       "    <tr>\n",
       "      <th>1</th>\n",
       "      <td>2024-04-08 06:36:21.918000+00:00</td>\n",
       "      <td>click</td>\n",
       "      <td>welcome</td>\n",
       "      <td>27b63d40-3661-4cf4-b531-0fc5a169b4e4</td>\n",
       "      <td>test</td>\n",
       "      <td>SkipConfirmationScreen</td>\n",
       "    </tr>\n",
       "    <tr>\n",
       "      <th>2</th>\n",
       "      <td>2024-04-08 06:36:21.921000+00:00</td>\n",
       "      <td>impression</td>\n",
       "      <td>products</td>\n",
       "      <td>27b63d40-3661-4cf4-b531-0fc5a169b4e4</td>\n",
       "      <td>test</td>\n",
       "      <td>SkipConfirmationScreen</td>\n",
       "    </tr>\n",
       "    <tr>\n",
       "      <th>3</th>\n",
       "      <td>2024-04-08 06:36:23.532000+00:00</td>\n",
       "      <td>click</td>\n",
       "      <td>products</td>\n",
       "      <td>27b63d40-3661-4cf4-b531-0fc5a169b4e4</td>\n",
       "      <td>test</td>\n",
       "      <td>SkipConfirmationScreen</td>\n",
       "    </tr>\n",
       "    <tr>\n",
       "      <th>4</th>\n",
       "      <td>2024-04-08 06:36:23.538000+00:00</td>\n",
       "      <td>impression</td>\n",
       "      <td>payment</td>\n",
       "      <td>27b63d40-3661-4cf4-b531-0fc5a169b4e4</td>\n",
       "      <td>test</td>\n",
       "      <td>SkipConfirmationScreen</td>\n",
       "    </tr>\n",
       "    <tr>\n",
       "      <th>5</th>\n",
       "      <td>2024-04-08 06:36:23.545000+00:00</td>\n",
       "      <td>impression</td>\n",
       "      <td>payment</td>\n",
       "      <td>27b63d40-3661-4cf4-b531-0fc5a169b4e4</td>\n",
       "      <td>test</td>\n",
       "      <td>SkipConfirmationScreen</td>\n",
       "    </tr>\n",
       "    <tr>\n",
       "      <th>6</th>\n",
       "      <td>2024-04-08 06:36:25.382000+00:00</td>\n",
       "      <td>click</td>\n",
       "      <td>payment</td>\n",
       "      <td>27b63d40-3661-4cf4-b531-0fc5a169b4e4</td>\n",
       "      <td>NaN</td>\n",
       "      <td>NaN</td>\n",
       "    </tr>\n",
       "    <tr>\n",
       "      <th>7</th>\n",
       "      <td>2024-04-08 06:36:25.388000+00:00</td>\n",
       "      <td>impression</td>\n",
       "      <td>receipt</td>\n",
       "      <td>27b63d40-3661-4cf4-b531-0fc5a169b4e4</td>\n",
       "      <td>NaN</td>\n",
       "      <td>NaN</td>\n",
       "    </tr>\n",
       "  </tbody>\n",
       "</table>\n",
       "</div>"
      ],
      "text/plain": [
       "                         timestamp       event      page  \\\n",
       "0 2024-04-08 06:36:20.314000+00:00  impression             \n",
       "1 2024-04-08 06:36:21.918000+00:00       click   welcome   \n",
       "2 2024-04-08 06:36:21.921000+00:00  impression  products   \n",
       "3 2024-04-08 06:36:23.532000+00:00       click  products   \n",
       "4 2024-04-08 06:36:23.538000+00:00  impression   payment   \n",
       "5 2024-04-08 06:36:23.545000+00:00  impression   payment   \n",
       "6 2024-04-08 06:36:25.382000+00:00       click   payment   \n",
       "7 2024-04-08 06:36:25.388000+00:00  impression   receipt   \n",
       "\n",
       "                               username group                    name  \n",
       "0  53e71b03-794d-4de9-8ae3-376980ee4ffb  test  SkipConfirmationScreen  \n",
       "1  27b63d40-3661-4cf4-b531-0fc5a169b4e4  test  SkipConfirmationScreen  \n",
       "2  27b63d40-3661-4cf4-b531-0fc5a169b4e4  test  SkipConfirmationScreen  \n",
       "3  27b63d40-3661-4cf4-b531-0fc5a169b4e4  test  SkipConfirmationScreen  \n",
       "4  27b63d40-3661-4cf4-b531-0fc5a169b4e4  test  SkipConfirmationScreen  \n",
       "5  27b63d40-3661-4cf4-b531-0fc5a169b4e4  test  SkipConfirmationScreen  \n",
       "6  27b63d40-3661-4cf4-b531-0fc5a169b4e4   NaN                     NaN  \n",
       "7  27b63d40-3661-4cf4-b531-0fc5a169b4e4   NaN                     NaN  "
      ]
     },
     "execution_count": 190,
     "metadata": {},
     "output_type": "execute_result"
    }
   ],
   "source": [
    "df.head(100)"
   ]
  },
  {
   "cell_type": "markdown",
   "id": "0b66292e",
   "metadata": {},
   "source": [
    "## Are test and control groups balanced?"
   ]
  },
  {
   "cell_type": "code",
   "execution_count": 191,
   "id": "d0d5ae90",
   "metadata": {},
   "outputs": [
    {
     "data": {
      "text/html": [
       "<div>\n",
       "<style scoped>\n",
       "    .dataframe tbody tr th:only-of-type {\n",
       "        vertical-align: middle;\n",
       "    }\n",
       "\n",
       "    .dataframe tbody tr th {\n",
       "        vertical-align: top;\n",
       "    }\n",
       "\n",
       "    .dataframe thead th {\n",
       "        text-align: right;\n",
       "    }\n",
       "</style>\n",
       "<table border=\"1\" class=\"dataframe\">\n",
       "  <thead>\n",
       "    <tr style=\"text-align: right;\">\n",
       "      <th></th>\n",
       "      <th>name</th>\n",
       "      <th>group</th>\n",
       "      <th>unique_count</th>\n",
       "    </tr>\n",
       "  </thead>\n",
       "  <tbody>\n",
       "    <tr>\n",
       "      <th>0</th>\n",
       "      <td>SkipConfirmationScreen</td>\n",
       "      <td>test</td>\n",
       "      <td>2</td>\n",
       "    </tr>\n",
       "  </tbody>\n",
       "</table>\n",
       "</div>"
      ],
      "text/plain": [
       "                     name group  unique_count\n",
       "0  SkipConfirmationScreen  test             2"
      ]
     },
     "execution_count": 191,
     "metadata": {},
     "output_type": "execute_result"
    }
   ],
   "source": [
    "df.groupby(['name', 'group'])['username'].nunique().reset_index(name='unique_count')"
   ]
  },
  {
   "cell_type": "markdown",
   "id": "7a33a709",
   "metadata": {},
   "source": [
    "## How many people complete flow?"
   ]
  },
  {
   "cell_type": "code",
   "execution_count": null,
   "id": "24620e29",
   "metadata": {},
   "outputs": [],
   "source": []
  }
 ],
 "metadata": {
  "kernelspec": {
   "display_name": "Python 3 (ipykernel)",
   "language": "python",
   "name": "python3"
  },
  "language_info": {
   "codemirror_mode": {
    "name": "ipython",
    "version": 3
   },
   "file_extension": ".py",
   "mimetype": "text/x-python",
   "name": "python",
   "nbconvert_exporter": "python",
   "pygments_lexer": "ipython3",
   "version": "3.11.8"
  }
 },
 "nbformat": 4,
 "nbformat_minor": 5
}
